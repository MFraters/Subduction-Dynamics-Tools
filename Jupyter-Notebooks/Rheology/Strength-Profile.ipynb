{
 "cells": [
  {
   "cell_type": "markdown",
   "metadata": {},
   "source": [
    "## How to Construct and Interpret Strength-depth Profiles\n",
    "\n",
    "In this notebook, I walk through the process of constructing a \n",
    "strength-depth profile for an oceanic plate and for a continental plate.\n",
    "\n",
    "The steps required to define a strength-depth profile are:    \n",
    "* Define a thermal profile as a function of depth.\n",
    "* Define a pressure profile as a function of depth.\n",
    "* Define failure criterion for brittle deformation.\n",
    "* Define a viscous flow-law for plastic deformation.\n",
    "* Define a strain-rate. \n",
    "\n",
    "The strength is then defined by the deformation mechanism (e.g., brittle, viscous) that gives the minimum strength as a function of depth/pressure.\n",
    "\n",
    "Magali Billen\n",
    "\n",
    "University of California, Davis\n",
    "\n",
    "Department of Earth and Planetary Science\n",
    "\n",
    "October 2019"
   ]
  },
  {
   "cell_type": "markdown",
   "metadata": {},
   "source": [
    "### Step 1: Define a thermal profile\n",
    "\n",
    "For the thermal profile, we will use the solution to cooling of a half-space, \n",
    "$$ T(z,t) = T_s + (T_s-T_m)erf(\\frac{z}{2\\sqrt{\\kappa t}}) $$\n",
    "where $z$ is depth, $t$ is age, $T_s$ and $T_m$ are the temperature at the surface and in the mantle, and $\\kappa$ is the thermal diffusivity.\n",
    "\n",
    "This choice for the thermal profile is appropriate for oceanic lithosphere less than 80-100 my. For older oceanic lithospheres, other processes (small-scale convection) may cause removal of the base of lithosphere, which limits further cooling.  For continental lithosphere, radiogenic heating is ignored, so choice of cooling age is not directly related to the age of the continent.   "
   ]
  },
  {
   "cell_type": "code",
   "execution_count": 1,
   "metadata": {},
   "outputs": [
    {
     "data": {
      "text/plain": [
       "Text(0,0.5,'Depth (km)')"
      ]
     },
     "execution_count": 1,
     "metadata": {},
     "output_type": "execute_result"
    }
   ],
   "source": [
    "import numpy as np\n",
    "import matplotlib.pyplot as plt\n",
    "from scipy.special import erf\n",
    "\n",
    "# Constants for converting units\n",
    "yr2sec = 60*60*24*365.25  # sec/year\n",
    "my2yr = 1e6  # year/million years\n",
    "km2m = 1000  # m/km\n",
    "\n",
    "# Physical constants\n",
    "kappa = 1e-6  # thermal diffusivity (m^2/s)\n",
    "T_s = 0  # surface temperature (C)\n",
    "T_m = 1350 # mantle temperature (C)\n",
    "t_my = 100  # plate age (my)\n",
    "\n",
    "z_km = np.arange(0.01,155,5)  # depth (km)\n",
    "\n",
    "t = t_my*my2yr*yr2sec  # age (sec)\n",
    "z = z_km*km2m\n",
    "T = T_s + (T_m - T_s)*erf(z/(2*np.sqrt(kappa*t)))\n",
    "\n",
    "fig = plt.figure()\n",
    "ax1 = fig.add_subplot(1,3,1)\n",
    "ax1.plot(T,z_km)\n",
    "ax1.set_ylim(150,0)\n",
    "ax1.grid(True)\n",
    "ax1.set_xlabel('Temperature (C)')\n",
    "ax1.set_ylabel('Depth (km)')"
   ]
  },
  {
   "cell_type": "markdown",
   "metadata": {},
   "source": [
    "### Step 2: Define a pressure profile\n",
    "\n",
    "We will approximate the pressure as a function of depth from the compressibility using Equation 4-321 (Turcotte and Schubert, Geodynamics 2nd edition, p. 190). \n",
    "\n",
    "$$ P(z) = \\frac{-1}{\\beta}ln(1 - \\rho_m g \\beta z) $$\n",
    "\n",
    "where $\\beta$ is the compressibility, $\\rho_m$ is the reference density at mantle temperature, and $g$ is the gravitational acceleration.\n",
    "\n",
    "Note that at shallow depth (upper mantle), this equation gives the same pressure as simply calculating the lithostatic pressure ($P_{lith} = \\rho_m g z$). I tend to use the compressibility equation because I also calculate viscosities in the lower mantle."
   ]
  },
  {
   "cell_type": "code",
   "execution_count": 2,
   "metadata": {},
   "outputs": [
    {
     "data": {
      "text/plain": [
       "<matplotlib.legend.Legend at 0x151ee48a90>"
      ]
     },
     "execution_count": 2,
     "metadata": {},
     "output_type": "execute_result"
    },
    {
     "data": {
      "image/png": "[encoded data removed]",
      "text/plain": [
       "<matplotlib.figure.Figure at 0x151ee116a0>"
      ]
     },
     "metadata": {
      "needs_background": "light"
     },
     "output_type": "display_data"
    }
   ],
   "source": [
    "# Constants for converting units\n",
    "pa2gpa = 1e9  # pascals per giga-pascal\n",
    "\n",
    "# Physical constants\n",
    "beta = 4.3e-12  # compressiblity (1/Pa)\n",
    "rho_m = 3300    # reference density (kg/m^3)\n",
    "g = 9.81        # gravitational acceleration (m/s^2)\n",
    "P = (-1/beta)*np.log(1 - rho_m*g*beta*z)  # pressure (Pa)\n",
    "Pgpa = P/pa2gpa  # GPa\n",
    "\n",
    "Plith = rho_m*g*z\n",
    "Plithgpa = Plith/pa2gpa\n",
    "\n",
    "fig = plt.figure()\n",
    "ax2 = fig.add_subplot(1,3,2)\n",
    "ax2.plot(Pgpa,z_km,color='blue',label='compressibility')\n",
    "ax2.plot(Plithgpa,z_km,color='red',linestyle='dotted',label='lithostatic')\n",
    "ax2.set_ylim(150,0)\n",
    "ax2.grid(True)\n",
    "ax2.set_xlabel('Pressure (GPa)')\n",
    "ax2.set_ylabel('Depth (km)')\n",
    "ax2.legend()"
   ]
  },
  {
   "cell_type": "markdown",
   "metadata": {},
   "source": [
    "### Step 3: Define brittle failure criterion\n",
    "\n",
    "The failure of the brittle crust and lithosphere is controlled by frictional and/or fracture strength. For strength-depth profiles, the frictional strength is typically used with the assumption that pre-existing faults limit the effective brittle strength. Therefore, we can use the empirically-defined Byerlee's law for fricational sliding to estimate the brittle strength of the crust and lithosphere:\n",
    "\n",
    "$\\tau = 0.85\\sigma_n$, for $\\sigma_n < 200$ MPa\n",
    "\n",
    "$\\tau = 60 + 0.6\\sigma_n$, for $200 < \\sigma_n < 1700$ MPa\n",
    "\n",
    "where $\\tau$ is the shear strength, $\\sigma_n$ is the normal stress on a fault (both in MPa). In using this to estimate plate strength, I will assume that $\\sigma_n$ is given by the lithostatic pressure.\n",
    "\n",
    "Note that this is the starting point for determining brittle strength, but this ignores the effect of pore fluid pressure on strength and does not account for the different strength of the crust in extension, compression or strike-slip environments ($\\sigma_n$ depends on type of deformation). For more on these effects, see *Implications of hydrostatic pore pressures and high crustal strength for the deformation of intraplate lithosphere*, Mark D. Zoback and John Townend, Tectonophysics, **336**, 19-30, (2001). \n",
    "\n"
   ]
  },
  {
   "cell_type": "code",
   "execution_count": 3,
   "metadata": {},
   "outputs": [
    {
     "data": {
      "text/plain": [
       "<matplotlib.legend.Legend at 0x151eecf8d0>"
      ]
     },
     "execution_count": 3,
     "metadata": {},
     "output_type": "execute_result"
    },
    {
     "data": {
      "image/png": "[encoded data removed]",
      "text/plain": [
       "<matplotlib.figure.Figure at 0x151edc52b0>"
      ]
     },
     "metadata": {
      "needs_background": "light"
     },
     "output_type": "display_data"
    }
   ],
   "source": [
    "i = np.min(np.where(P>200e6)) # Index at which depth pressure equal 200 MPa\n",
    "\n",
    "tau = np.zeros(np.size(P)) \n",
    "tau[0:i] = 0.85*P[0:i]      # from 0 to i\n",
    "tau[i:] = 60e6 + 0.6*P[i:]  # from i to end\n",
    "\n",
    "tau_gpa = tau/pa2gpa  # brittle strength in GPa\n",
    "\n",
    "fig = plt.figure()\n",
    "ax3 = fig.add_subplot(1,3,2)\n",
    "ax3.plot(tau_gpa,z_km,color='blue',label='Byerlee')\n",
    "ax3.set_ylim(150,0)\n",
    "ax3.grid(True)\n",
    "ax3.set_xlabel('Strengh (GPa)')\n",
    "ax3.set_ylabel('Depth (km)')\n",
    "ax3.legend()"
   ]
  },
  {
   "cell_type": "markdown",
   "metadata": {},
   "source": [
    "### Step 4: define a viscous flow-law for plastic deformation\n",
    "\n",
    "The lithosphere and mantle deform through viscous creep, however the specific flow-law (strain-rate vs. stress relationship) depends on many things (e.g., background stress, temperature, grain-size). For this example, we will assume that the viscous deformation is occurring through dislocation creep. At low temperature this will over-estimate the strength. Similarly, in shear zones/faults, grain-size can be significantly decreases such the diffusion creep becomes active. \n",
    "\n",
    "For oceanic lithosphere, we only need to define the viscous flow law for the mantle section because the thin ($\\sim$7-8 km) crust will deform by brittle deformation. Because the mantle is 60% olivine, we use experimentally-derived flow-laws for olivine. The effect of pyroxene is thought to primarily affect maximum grain size through pinning (limiting the continued growth of larger grains).\n",
    "\n",
    "The flow-law for deformation of olivine by dislocation creep is given by,\n",
    "$$ \\dot{\\epsilon} = A \\sigma^n \\exp \\left(-\\frac{E + PV}{RT}\\right) $$\n",
    "where $ \\dot{\\epsilon}$ is the strain-rate, $\\sigma$ is the stress, $A$ is the pre-exponential factor, $n$ is the stress exponent, $E$ is the activation energy, $V$ is the activation volume, $T$ is temperature and $R$ is the gas constant. \n",
    "\n",
    "This equation can be rearranged to give the stress (strength) in terms of strain-rate as,\n",
    "$$ \\sigma = \\left(\\frac{\\dot{\\epsilon}}{A}\\right)^{1/n} \\exp \\left(\\frac{E + PV}{nRT} \\right) $$\n",
    "\n",
    "I will use the values for the flow law *Rheology of the Upper Mantle and the Mantle Wedge: A View from the Experimentalists*, Greg Hirth and David Kohlstedt, Inside the Subduction Factory, Geophysical Monograph, **138** (2003)"
   ]
  },
  {
   "cell_type": "code",
   "execution_count": 4,
   "metadata": {},
   "outputs": [
    {
     "name": "stderr",
     "output_type": "stream",
     "text": [
      "/Users/billen/miniconda3/lib/python3.6/site-packages/ipykernel_launcher.py:14: RuntimeWarning: overflow encountered in exp\n",
      "  \n"
     ]
    },
    {
     "data": {
      "text/plain": [
       "<matplotlib.legend.Legend at 0x151ef438d0>"
      ]
     },
     "execution_count": 4,
     "metadata": {},
     "output_type": "execute_result"
    },
    {
     "data": {
      "image/png": "[encoded data removed]",
      "text/plain": [
       "<matplotlib.figure.Figure at 0x151ef1bc18>"
      ]
     },
     "metadata": {
      "needs_background": "light"
     },
     "output_type": "display_data"
    }
   ],
   "source": [
    "# I'll define a function to calculate the stress due to dislocation creep\n",
    "# so I can easily calculate this for several strain-rates.\n",
    "\n",
    "def stress_dislocation(edot,T,P):\n",
    "    # Physical Constants\n",
    "    R = 8.314 # J/mol*K\n",
    "\n",
    "    # Flow-law parameters (Hirth and Kohlstedt, wet olivine, 2003)\n",
    "    n = 3.5\n",
    "    A = 90/np.power(1e6,n)  # for stress in Pa\n",
    "    E = 480e3 # J/mol\n",
    "    V = 11e-6  # m^3/mol\n",
    "    \n",
    "    sigma = np.power(edot/A,1/n)*np.exp((E + P*V)/(n*R*T))\n",
    "    return sigma\n",
    "\n",
    "edot = 1e-12\n",
    "visc_stress1 = stress_dislocation(edot,T,P) # ignore overflow error\n",
    "edot = 1e-15\n",
    "visc_stress2 = stress_dislocation(edot,T,P)\n",
    "edot = 1e-17\n",
    "visc_stress3 = stress_dislocation(edot,T,P)\n",
    "\n",
    "fig = plt.figure()\n",
    "ax3 = fig.add_subplot(1,3,2)\n",
    "ax3.plot(visc_stress1/pa2gpa,z_km,color='green',label='1e-12 1/s')\n",
    "ax3.plot(visc_stress2/pa2gpa,z_km,color='green',linestyle='dashed',label='1e-15 1/s')\n",
    "ax3.plot(visc_stress3/pa2gpa,z_km,color='green',linestyle='dotted',label='1e-18 1/s')\n",
    "ax3.set_ylim(150,0)\n",
    "ax3.set_xlim(0,4)\n",
    "ax3.grid(True)\n",
    "ax3.set_xlabel('Strengh (GPa)')\n",
    "ax3.set_ylabel('Depth (km)')\n",
    "ax3.legend()"
   ]
  },
  {
   "cell_type": "markdown",
   "metadata": {},
   "source": [
    "### Strength-depth profile for Oceanic Plate\n",
    "\n",
    "The plate will either fail brittlely or flow viscously, and whichever mechanism requires the lowest stress defines the strength of the plate. Therefore, the final step is to define the strength as the minimum stress predicted by the deformation mechanisms\n",
    "$$ \\sigma = min(\\tau,\\sigma) $$\n",
    "In our example, we have just two mechanisms, but if more mechanisms are included, it is still the weakest mechanism that limits the strength."
   ]
  },
  {
   "cell_type": "code",
   "execution_count": 5,
   "metadata": {},
   "outputs": [
    {
     "data": {
      "text/plain": [
       "<matplotlib.legend.Legend at 0x151efb3550>"
      ]
     },
     "execution_count": 5,
     "metadata": {},
     "output_type": "execute_result"
    },
    {
     "data": {
      "image/png": "[encoded data removed]",
      "text/plain": [
       "<matplotlib.figure.Figure at 0x151ef6c4e0>"
      ]
     },
     "metadata": {
      "needs_background": "light"
     },
     "output_type": "display_data"
    }
   ],
   "source": [
    "sigma1 = np.minimum(tau,visc_stress1)\n",
    "sigma2 = np.minimum(tau,visc_stress2)\n",
    "sigma3 = np.minimum(tau,visc_stress3)\n",
    "\n",
    "fig = plt.figure()\n",
    "ax4 = fig.add_subplot(1,3,1)\n",
    "ax4.plot(sigma1/pa2gpa,z_km,color='black',label='1e-12 1/s')\n",
    "ax4.plot(sigma2/pa2gpa,z_km,color='black',linestyle='dashed',label='1e-15 1/s')\n",
    "ax4.plot(sigma3/pa2gpa,z_km,color='black',linestyle='dotted',label='1e-18 1/s')\n",
    "ax4.set_ylim(150,0)\n",
    "ax4.set_xlim(0,2)\n",
    "ax4.grid(True)\n",
    "ax4.set_xlabel('Strengh (GPa)')\n",
    "ax4.set_ylabel('Depth (km)')\n",
    "ax4.legend()"
   ]
  },
  {
   "cell_type": "markdown",
   "metadata": {},
   "source": [
    "### Interpreting a strength-depth profile\n",
    "\n",
    "So, what does a strength-depth profile mean?  First, by constructing your own, you are now aware that a strength-depth profiles depends on several choices: the thermal profile, the strain-rate, what defines the brittle strength, what mechanisms are accommodating deformation.\n",
    "In most cases, the strain-rate is a constant with depth, which may or may not be true in the real tectonic setting. When pore pressure is included, it is also commonly assumed to be constant with depth.\n",
    "\n",
    "Given this understanding, the strength-depth profile is a useful indicator of what part of the plate provides the physical strength, or leads to the plate-like behavior. However, its important to realize that as soon as the plate is subject to a change in tectonic stress (starts to extend or compress or shear) the conditions will change... including temperature, and strain-rate, and possibly the deformation mechanism. So, it does not tell you how deformation will unfold, or which part of the plate will deformation the most or least. "
   ]
  },
  {
   "cell_type": "code",
   "execution_count": null,
   "metadata": {},
   "outputs": [],
   "source": []
  }
 ],
 "metadata": {
  "kernelspec": {
   "display_name": "Python 3",
   "language": "python",
   "name": "python3"
  },
  "language_info": {
   "codemirror_mode": {
    "name": "ipython",
    "version": 3
   },
   "file_extension": ".py",
   "mimetype": "text/x-python",
   "name": "python",
   "nbconvert_exporter": "python",
   "pygments_lexer": "ipython3",
   "version": "3.6.9"
  }
 },
 "nbformat": 4,
 "nbformat_minor": 2
}
