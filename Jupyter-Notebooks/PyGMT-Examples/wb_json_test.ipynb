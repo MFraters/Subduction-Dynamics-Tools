{
 "cells": [
  {
   "cell_type": "code",
   "execution_count": 1,
   "id": "7545333d",
   "metadata": {},
   "outputs": [
    {
     "name": "stdout",
     "output_type": "stream",
     "text": [
      "The worldbuilder file has been read in as a  <class 'dict'>\n"
     ]
    }
   ],
   "source": [
    "# Read in a WorldBuilder File\n",
    "\n",
    "import json\n",
    "import numpy as np\n",
    "import pygmt\n",
    "\n",
    "#dir = '/Users/billen/Box-Sync/Mybin'\n",
    "worldbuilder_json_file = 'test_slab2wb_output.wb'\n",
    "\n",
    "file_object = open(worldbuilder_json_file,'r')\n",
    "wbdict = json.load(file_object)\n",
    "print('The worldbuilder file has been read in as a ', type(wbdict))"
   ]
  },
  {
   "cell_type": "markdown",
   "id": "7a46250a",
   "metadata": {},
   "source": [
    "__Beginning of this notebook shows how to read and access informtion in the dictionary \n",
    "read in from the template worldbuilder file.__ "
   ]
  },
  {
   "cell_type": "code",
   "execution_count": 3,
   "id": "72a4c793",
   "metadata": {},
   "outputs": [],
   "source": [
    "# Show all the information in the json file\n",
    "#wbdict"
   ]
  },
  {
   "cell_type": "code",
   "execution_count": 4,
   "id": "27cc0a56",
   "metadata": {},
   "outputs": [
    {
     "data": {
      "text/plain": [
       "1250"
      ]
     },
     "execution_count": 4,
     "metadata": {},
     "output_type": "execute_result"
    }
   ],
   "source": [
    "# To show one of the global parameters\n",
    "wbdict['specific heat']"
   ]
  },
  {
   "cell_type": "code",
   "execution_count": 5,
   "id": "38bbaa12",
   "metadata": {},
   "outputs": [
    {
     "name": "stdout",
     "output_type": "stream",
     "text": [
      "There are  3  features.\n",
      "oceanic plate Overriding\n",
      "oceanic plate Subducting\n",
      "subducting plate Slab\n"
     ]
    }
   ],
   "source": [
    "nfeatures = len(wbdict['features'][:])\n",
    "print('There are ', nfeatures, ' features.')\n",
    "for i in range(nfeatures):\n",
    "    print(wbdict['features'][i]['model'], wbdict['features'][i]['name'])"
   ]
  },
  {
   "cell_type": "code",
   "execution_count": 6,
   "id": "db39b668",
   "metadata": {},
   "outputs": [
    {
     "name": "stdout",
     "output_type": "stream",
     "text": [
      "coordinates [[0, -100000.0], [0, 100000.0], [2500000.0, 100000.0], [2500000.0, -100000.0]]\n",
      "One value -100000.0\n"
     ]
    }
   ],
   "source": [
    "# All of the coordinates parameters for feature 0\n",
    "print('coordinates',wbdict['features'][0]['coordinates'])\n",
    "\n",
    "# To access one of the coordinates in the first feature\n",
    "print('One value', wbdict['features'][0]['coordinates'][0][1])"
   ]
  },
  {
   "cell_type": "code",
   "execution_count": null,
   "id": "5ee8c0c5",
   "metadata": {},
   "outputs": [],
   "source": [
    "# How to access/assign Slab Segments information\n",
    "\n",
    "print(wbdict['features'][2]['segments'][0]['length'])\n",
    "print(wbdict['features'][2]['segments'][0]['thickness'] )\n",
    "print(wbdict['features'][2]['segments'][0]['angle'] )\n",
    "print(len(wbdict['features'][2]['segments']))\n",
    "print(type(wbdict['features'][2]['segments']))\n",
    "testlist = list(wbdict['features'][2]['segments'])\n",
    "print(testlist[0])\n",
    "list0 = testlist[0:10]\n",
    "\n",
    "wbdict['features'][2]['segments'] = list0\n",
    "print(wbdict['features'][2]['segments'])"
   ]
  },
  {
   "cell_type": "markdown",
   "id": "0fbf2ba4",
   "metadata": {},
   "source": [
    "__Starting here, is the process for re-assigning the information in the World Builder file from the template.__\n",
    "\n",
    "Note that the number of segments in the slab does not need to match the number of segments in the template."
   ]
  },
  {
   "cell_type": "code",
   "execution_count": 7,
   "id": "649ba972",
   "metadata": {},
   "outputs": [],
   "source": [
    "# The details here depend on which features and models are being used, \n",
    "# but this provides a pretty detailed example of automating the process of \n",
    "# creating World Builder Files for a 2D subduction model.\n",
    "\n",
    "# Order of Features in World Builder File is assumed to be:\n",
    "    # [0] Plate A (West/North); models: temperature, composition\n",
    "    # [1] Plate B (East/South); models: temperature, composition\n",
    "    # [2] Slab; models: temperature, composition\n",
    "# Compositional layers: crust and harzburgite -> model: uniform\n",
    "# Plate temperature model: half space cooling\n",
    "# Slab temperature model: mass conserving\n",
    "\n",
    "# Directions are dist (x), depth (z), out-of-plane (y)\n",
    "dy1 = -10e3  # width in out-of plane section\n",
    "dy2 =  10e3\n",
    "trench_dist = 3000e3\n",
    "\n",
    "# Location (on map) information that is need for 2D cross section\n",
    "# Cross Section Coordinates [[start_dist, start_depth], [end_dist, end_depth]]\n",
    "start_dist = 0\n",
    "start_depth = 0\n",
    "end_dist = 6000e3 ### km, to be changed\n",
    "end_depth = 0\n",
    "\n",
    "ridge_distA = -1000e3  # can be outside of plate region and model region\n",
    "ridge_distB = 5000e3  # or can be within\n",
    "\n",
    "dip_direction = 0; # 0 - north or west; 1 - south or east\n",
    "if dip_direction == 0:\n",
    "    dip_point = [start_dist, 0]  # dips north or west, Plate B is subducting\n",
    "else:\n",
    "    dip_point = [end_dist, 0]  # dips south or east, Plate A is subducting"
   ]
  },
  {
   "cell_type": "code",
   "execution_count": 8,
   "id": "ffd3fb2f",
   "metadata": {},
   "outputs": [],
   "source": [
    "# Orientation of 2D cross section is determined by end points of a profiles\n",
    "\n",
    "wbdict['cross section'] = [[start_dist,start_depth],[end_dist,end_depth]]\n",
    "\n",
    "# Points outlining map geometry of a plate: in 2D these are rectangles\n",
    "#plate A \n",
    "wbdict['features'][0]['coordinates'] = \\\n",
    "    [ [start_dist, dy1], [start_dist, dy2], [trench_dist, dy2], [trench_dist, dy2] ]\n",
    "\n",
    "#plateB   \n",
    "wbdict['features'][1]['coordinates'] = \\\n",
    "    [ [trench_dist, dy1], [trench_dist, dy2], [end_dist, dy2], [end_dist, dy2] ]\n",
    "\n",
    "# Slab: trench location\n",
    "# Slab location and orientation are defined by trench location and dip direction\n",
    "wbdict['features'][2]['coordinates'] = [[trench_dist, dy1], [trench_dist, dy2]]\n",
    "wbdict['features'][2]['dip point']  = dip_point\n",
    "\n",
    "# Plate and slab velocities for half-space and mass conserving temperature\n",
    "# Putting this here because think about this with ridge coordinates\n",
    "spr_velA = 0.05  # m/yr\n",
    "spr_velB = 0.05  # m/yr\n",
    "\n",
    "wbdict['features'][0]['temperature models'][0]['spreading velocity'] = spr_velA\n",
    "wbdict['features'][1]['temperature models'][0]['spreading velocity'] = spr_velB\n",
    "\n",
    "# Locations of ridges needed for half space cooling models of both plates and slab\n",
    "# These are start and end points on map\n",
    "ridge_coordsA = [[ridge_distA, dy1], [ridge_distA, dy2]]\n",
    "ridge_coordsB = [[ridge_distB, dy1], [ridge_distB, dy2]]\n",
    "\n",
    "wbdict['features'][0]['temperature models'][0]['ridge coordinates'] = ridge_coordsA\n",
    "wbdict['features'][1]['temperature models'][0]['ridge coordinates'] = ridge_coordsB\n",
    "\n",
    "\n",
    "# Ridge and spreading velocity for slab depends on dip direction\n",
    "if dip_direction == 0:\n",
    "    ridge_for_slab = ridge_coordsB # dips north or west\n",
    "    spr_vel_slab = spr_velB\n",
    "else:\n",
    "    ridge_for_slab = ridge_coordsA # dips south or east\n",
    "    spr_vel_slab = spr_velA\n",
    "\n",
    "wbdict['features'][2]['temperature models'][0]['plate velocity'] = spr_vel_slab\n",
    "wbdict['features'][2]['temperature models'][0]['ridge coordinates'] = ridge_for_slab\n"
   ]
  },
  {
   "cell_type": "code",
   "execution_count": 9,
   "id": "e0eaf3dd",
   "metadata": {},
   "outputs": [],
   "source": [
    "# General Material Parameters\n",
    "surface_temperature = 273 # K\n",
    "bottom_temperature = -1 # use adiabatic temperature gradient\n",
    "\n",
    "wbdict['surface temperature'] = surface_temperature\n",
    "wbdict['potential mantle temperature'] = 1673 # K\n",
    "wbdict['thermal expansion coefficient'] = 3.1e-5 # 1/K?\n",
    "wbdict['specific heat'] = 1250. # ??\n",
    "wbdict['thermal diffusivity'] = 1.0e-6 # m^2/s\n",
    "wbdict['force surface temperature'] = 'true'\n",
    "# Slab Mass Conserving (also uses general parameters above, so must be consistent)\n",
    "wbdict['features'][2]['temperature models'][0]['density'] = 3300.0 # kg/m^3\n",
    "wbdict['features'][2]['temperature models'][0]['thermal conductivity'] = 3.3 # ??\n",
    "\n",
    "# Half-space Cooling Model and Mass COnserving: background temperature --> adiabatic or not?\n",
    "wbdict['features'][2]['temperature models'][0]['adiabatic heating'] = 'true' \n",
    "wbdict['features'][0]['temperature models'][0]['top temperature'] = surface_temperature\n",
    "wbdict['features'][0]['temperature models'][0]['bottom temperature'] = bottom_temperature\n",
    "wbdict['features'][1]['temperature models'][0]['top temperature'] = surface_temperature\n",
    "wbdict['features'][1]['temperature models'][0]['bottom temperature'] = bottom_temperature\n",
    "\n",
    "# Other specific Mass-conserving temperature parameters\n",
    "wbdict['features'][2]['temperature models'][0]['coupling depth'] = 100e3 # km\n",
    "wbdict['features'][2]['temperature models'][0]['shallow dip'] = 30.0 # deg\n",
    "wbdict['features'][2]['temperature models'][0]['taper distance'] = 100e3 # km"
   ]
  },
  {
   "cell_type": "code",
   "execution_count": 10,
   "id": "a2e1d9c8",
   "metadata": {},
   "outputs": [],
   "source": [
    "# Depths for calculating temperature and composition\n",
    "# Assumes plates and slab have both a crust and harzburgite layer\n",
    "min_depthA = -10e3 # km\n",
    "min_depthB  = -10e3 # km\n",
    "max_depthA = 150e3 # km\n",
    "max_depthB = 150e3 # km\n",
    "max_crustA = 7.5e3 # km\n",
    "max_crustB = 7.5e3 # km\n",
    "max_harzA = 30.0e3 # km\n",
    "max_harzB = 30.0e3 # km\n",
    "# Plate A\n",
    "wbdict['features'][0]['min depth'] = min_depthA\n",
    "wbdict['features'][0]['max depth'] = max_depthA\n",
    "wbdict['features'][0]['temperature models'][0]['min depth'] = min_depthA\n",
    "wbdict['features'][0]['temperature models'][0]['max depth'] = max_depthA\n",
    "wbdict['features'][0]['composition models'][0]['min depth'] = min_depthA\n",
    "wbdict['features'][0]['composition models'][0]['max depth'] = max_crustA\n",
    "#wbdict['features'][0]['composition models'][1]['min depth'] = max_crustA\n",
    "#wbdict['features'][0]['composition models'][1]['max depth'] = max_harzA\n",
    "\n",
    "# Plate B\n",
    "wbdict['features'][1]['min depth'] = min_depthB\n",
    "wbdict['features'][1]['max depth'] = max_depthB\n",
    "wbdict['features'][1]['temperature models'][0]['min depth'] = min_depthB\n",
    "wbdict['features'][1]['temperature models'][0]['max depth'] = max_depthB\n",
    "wbdict['features'][1]['composition models'][0]['min depth'] = min_depthA\n",
    "wbdict['features'][1]['composition models'][0]['max depth'] = max_crustA\n",
    "#wbdict['features'][1]['composition models'][1]['min depth'] = max_crustA\n",
    "#wbdict['features'][1]['composition models'][1]['max depth'] = max_harzA\n",
    "\n",
    "# Slab Mass Conserving Temperature and Composition\n",
    "wbdict['features'][2]['temperature models'][0]['min distance slab top'] = -200e3 # km\n",
    "wbdict['features'][2]['temperature models'][0]['max distance slab top'] = -200e3 # km\n",
    "\n",
    "# Crustal thickness for slab depends on dip direction\n",
    "if dip_direction == 0: # dips north or west\n",
    "    wbdict['features'][2]['composition models'][0]['max distance slab top'] = max_crustB # km\n",
    "    #wbdict['features'][2]['composition models'][1]['min distance slab top'] = max_crustB # km\n",
    "    #wbdict['features'][2]['composition models'][1]['max distance slab top'] = max_harzB # km\n",
    "else: # dips south or east\n",
    "    wbdict['features'][2]['composition models'][0]['max distance slab top'] = max_crustA # km \n",
    "    #wbdict['features'][2]['composition models'][1]['min distance slab top'] = max_crustA # km\n",
    "    #wbdict['features'][2]['composition models'][1]['max distance slab top'] = max_harzA # km\n"
   ]
  },
  {
   "cell_type": "code",
   "execution_count": 27,
   "id": "244aa8c1",
   "metadata": {},
   "outputs": [
    {
     "name": "stdout",
     "output_type": "stream",
     "text": [
      "[{'length': 100000.0, 'thickness': [100000.0], 'angle': [0, 10]}, {'length': 100000.0, 'thickness': [100000.0], 'angle': [10, 30]}, {'length': 100000.0, 'thickness': [100000.0], 'angle': [30, 50]}]\n"
     ]
    }
   ],
   "source": [
    "# make a list of dictionaries for slab segments\n",
    "length = 100.0e3\n",
    "thickness = [100e3]\n",
    "angle1 = [0, 10, 30]\n",
    "angle2 = [10, 30, 50]\n",
    "segments_list = [ ]\n",
    "for i in range(len(angle1)):\n",
    "    segment_dict = {'length' : length, 'thickness' : thickness, 'angle' : [angle1[i], angle2[i]]}\n",
    "    segments_list.append(segment_dict)\n",
    "    \n",
    "print(segments_list)\n",
    "\n",
    "wbdict['features'][2]['segments'] = segments_list"
   ]
  },
  {
   "cell_type": "code",
   "execution_count": 28,
   "id": "6c4299bf",
   "metadata": {},
   "outputs": [],
   "source": [
    "# How to output the modified dictionary as a json file\n",
    "# Serializing json \n",
    "wbjson_object = json.dumps(wbdict, indent = 2)\n",
    "  \n",
    "# Writing to sample.json\n",
    "with open(\"sample.json\", \"w\") as outfile:\n",
    "    outfile.write(wbjson_object)"
   ]
  },
  {
   "cell_type": "code",
   "execution_count": null,
   "id": "1b852d5a",
   "metadata": {},
   "outputs": [],
   "source": []
  },
  {
   "cell_type": "code",
   "execution_count": null,
   "id": "6d96fbf9",
   "metadata": {},
   "outputs": [],
   "source": []
  }
 ],
 "metadata": {
  "kernelspec": {
   "display_name": "Python 3 (ipykernel)",
   "language": "python",
   "name": "python3"
  },
  "language_info": {
   "codemirror_mode": {
    "name": "ipython",
    "version": 3
   },
   "file_extension": ".py",
   "mimetype": "text/x-python",
   "name": "python",
   "nbconvert_exporter": "python",
   "pygments_lexer": "ipython3",
   "version": "3.9.13"
  }
 },
 "nbformat": 4,
 "nbformat_minor": 5
}
